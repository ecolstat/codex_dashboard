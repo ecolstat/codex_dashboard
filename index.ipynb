{
 "cells": [
  {
   "cell_type": "markdown",
   "metadata": {},
   "source": [
    "# Codex: 29 Markers on 5,000 Murine Spleen Cells\n",
    "Data obtained and re-processed from http://welikesharingdata.blob.core.windows.net/forshare/index.html."
   ]
  },
  {
   "cell_type": "code",
   "execution_count": 1,
   "metadata": {},
   "outputs": [],
   "source": [
    "import pandas as pd\n",
    "df = {}"
   ]
  },
  {
   "cell_type": "code",
   "execution_count": 2,
   "metadata": {},
   "outputs": [
    {
     "name": "stdout",
     "output_type": "stream",
     "text": [
      ">> clustergrammer2 backend version 0.5.1\n"
     ]
    }
   ],
   "source": [
    "from clustergrammer2 import net\n",
    "\n",
    "import ipywidgets as widgets\n",
    "import numpy as np\n",
    "from bqplot import pyplot as plt\n",
    "import bqplot\n",
    "\n",
    "from copy import deepcopy\n",
    "from glob import glob\n",
    "from scipy.spatial.distance import pdist, squareform\n",
    "from scipy.spatial import Voronoi\n",
    "\n",
    "import warnings\n",
    "warnings.filterwarnings('ignore')"
   ]
  },
  {
   "cell_type": "code",
   "execution_count": 3,
   "metadata": {},
   "outputs": [
    {
     "data": {
      "text/plain": [
       "(29, 5018)"
      ]
     },
     "execution_count": 3,
     "metadata": {},
     "output_type": "execute_result"
    }
   ],
   "source": [
    "net.load_file('codex_data/4-tile_5k-cells_expression-cat.txt')\n",
    "df['tile-neighbor'] = net.export_df()"
   ]
  },
  {
   "cell_type": "code",
   "execution_count": 4,
   "metadata": {},
   "outputs": [
    {
     "data": {
      "text/plain": [
       "(5146, 2)"
      ]
     },
     "execution_count": 4,
     "metadata": {},
     "output_type": "execute_result"
    }
   ],
   "source": [
    "net.load_file('codex_data/4-tile_5k-cells_location-cat.txt')\n",
    "df['tile-loc'] = net.export_df()"
   ]
  },
  {
   "cell_type": "code",
   "execution_count": 5,
   "metadata": {},
   "outputs": [],
   "source": [
    "cat_colors = net.load_json_to_dict('codex_data/cat_colors.json')"
   ]
  },
  {
   "cell_type": "code",
   "execution_count": 6,
   "metadata": {},
   "outputs": [],
   "source": [
    "net.load_df(df['tile-neighbor'])\n",
    "net.set_cat_colors(axis='col', cat_colors=cat_colors, cat_index=1, cat_title='Cell Type')\n",
    "net.set_cat_colors(axis='col', cat_colors=cat_colors, cat_index=2, cat_title='Neighbor')"
   ]
  },
  {
   "cell_type": "code",
   "execution_count": 7,
   "metadata": {},
   "outputs": [],
   "source": [
    "def cat_highlight(inst_value):\n",
    "\n",
    "    if inst_value != 'reset_cats':\n",
    "        \n",
    "        inst_cat = inst_value.split(': ')[1]\n",
    "\n",
    "        list_opacities = []\n",
    "\n",
    "        for inst_label in region_labels:\n",
    "            inst_opacity = 0.25\n",
    "            if inst_label == inst_cat:\n",
    "                inst_opacity = 1\n",
    "            list_opacities.append(inst_opacity)\n",
    "\n",
    "    else:\n",
    "        list_opacities = [1 for x in region_labels]\n",
    "        patch.opacities = list_opacities\n",
    "\n",
    "    patch.opacities = list_opacities"
   ]
  },
  {
   "cell_type": "code",
   "execution_count": 8,
   "metadata": {},
   "outputs": [],
   "source": [
    "df['tile-lookup'] = deepcopy(df['tile-neighbor'])\n",
    "df['tile-lookup'].columns = [x[0] for x in df['tile-lookup'].columns]"
   ]
  },
  {
   "cell_type": "code",
   "execution_count": 9,
   "metadata": {},
   "outputs": [],
   "source": [
    "def on_value_change(change):\n",
    "    \n",
    "    if change['new'] == 'null':\n",
    "        cat_highlight('reset_cats')            \n",
    "    else: \n",
    "        # mousing over category\n",
    "        if 'cat-' in change['new']:\n",
    "            inst_cat = change['new'].split(' -> ')[1]\n",
    "            cat_highlight(inst_cat)       \n",
    "            \n",
    "        # mousing over marker\n",
    "        else:\n",
    "            inst_marker = change['new'].split(' -> ')[1]\n",
    "            ser_opacity = df['tile-lookup'].loc[inst_marker]\n",
    "            \n",
    "            \n",
    "            # the patches are not in the same order as the data in the dataframe\n",
    "            #list_opacities = [float(x/ser_opacity.max()) for x in list(ser_opacity.get_values())]\n",
    "            \n",
    "            # loop up opacities\n",
    "            list_opacities = []\n",
    "            rows = ser_opacity.index.tolist()\n",
    "            for inst_name in keep_names:\n",
    "                if inst_name in rows:\n",
    "                    list_opacities.append( float(ser_opacity[inst_name]/ser_opacity.max())  )\n",
    "                else:\n",
    "                    list_opacities.append(0)\n",
    "                \n",
    "            patch.opacities = list_opacities\n"
   ]
  },
  {
   "cell_type": "code",
   "execution_count": 10,
   "metadata": {},
   "outputs": [],
   "source": [
    "net.load_df(df['tile-neighbor'])\n",
    "net.random_sample(axis='col', num_samples=4000, random_state=99)\n",
    "net.normalize(axis='row', norm_type='zscore')\n",
    "net.clip(-5,5)\n",
    "net.widget()\n",
    "net.widget_instance.observe(on_value_change, names='value')\n",
    "# tmp = net.widget()"
   ]
  },
  {
   "cell_type": "code",
   "execution_count": 11,
   "metadata": {},
   "outputs": [],
   "source": [
    "vor = Voronoi(df['tile-loc'])\n",
    "\n",
    "point_list = df['tile-loc'].index.tolist()\n",
    "point_names = [x[0] for x in point_list]\n",
    "cat_names   = [x[1].split(': ')[1] for x in point_list]\n",
    "\n",
    "patch_data = {}\n",
    "patch_data['x'] = []\n",
    "patch_data['y'] = []\n",
    "patch_data['colors'] = []\n",
    "region_labels = []\n",
    "\n",
    "keep_names = []\n",
    "\n",
    "region_point_dict = {}\n",
    "for point_index in range(vor.point_region.shape[0]):\n",
    "    region_index = vor.point_region[point_index]\n",
    "    region_point_dict[region_index] = point_index\n",
    "\n",
    "for region_index in range(len(vor.regions)):\n",
    "    \n",
    "    inst_region = vor.regions[region_index]\n",
    "\n",
    "    if -1 not in inst_region and len(inst_region) > 0:\n",
    "\n",
    "        point_index = region_point_dict[region_index]\n",
    "        point_cat = cat_names[point_index]\n",
    "        point_name = point_names[point_index]\n",
    "        region_labels.append(point_cat)\n",
    "        \n",
    "        keep_names.append(point_name)\n",
    "        \n",
    "        # save cat_colors\n",
    "        inst_color = cat_colors[point_cat]\n",
    "        patch_data['colors'].append(inst_color)\n",
    "        \n",
    "        x_list = []\n",
    "        y_list = []\n",
    "        for inst_vertex in inst_region:\n",
    "            inst_pos = vor.vertices[inst_vertex]\n",
    "            x_list.append(inst_pos[0])\n",
    "            y_list.append(inst_pos[1])\n",
    "            \n",
    "        patch_data['x'].append(x_list)\n",
    "        patch_data['y'].append(y_list)    "
   ]
  },
  {
   "cell_type": "code",
   "execution_count": 40,
   "metadata": {},
   "outputs": [],
   "source": [
    "x_dim = 1200\n",
    "y_dim = 1000\n",
    "\n",
    "def_tt = bqplot.Tooltip(fields=['name'], formats=[''])\n",
    "\n",
    "fig = plt.figure(animation_duration=1000)\n",
    "patch = plt.plot([], [], \n",
    "                 fill='inside',\n",
    "                 fill_colors=patch_data['colors'],\n",
    "                 stroke_width=1,\n",
    "                 close_path=True,\n",
    "                 labels=region_labels,\n",
    "                 tooltip=def_tt,\n",
    "                 axes_options={'x': {'visible': False}, 'y': {'visible': False}},\n",
    "                )\n",
    "\n",
    "scatter = plt.scatter(df['tile-loc']['X.X'], \n",
    "                      df['tile-loc']['Y.Y'],\n",
    "#                       tooltip=def_tt, \n",
    "                      names=point_names,\n",
    "                      display_names=False, default_size=2)\n",
    "\n",
    "\n",
    "top_margin = 275\n",
    "inst_width = 800\n",
    "inst_height = inst_width/1.15 + top_margin\n",
    "fig.layout.min_height = str(inst_height) + 'px'\n",
    "fig.layout.min_width  = str(inst_width) + 'px'\n",
    "\n",
    "patch.x = patch_data['x']\n",
    "patch.y = patch_data['y']\n",
    "\n",
    "plt.xlim(0, 2.0*x_dim)\n",
    "plt.ylim(0, 2.0*y_dim)\n",
    "fig.title = 'Codex Cell Locations'\n",
    "fig.fig_margin = {'top': top_margin, 'bottom': 5, 'left': 5, 'right': 5}\n",
    "\n",
    "# fig.margin {top=10, bottom=10, left=10, right=10}\n",
    "\n",
    "# plt.show()"
   ]
  },
  {
   "cell_type": "code",
   "execution_count": 35,
   "metadata": {},
   "outputs": [],
   "source": [
    "from ipywidgets import HBox\n",
    "HBox([fig, net.widget_instance])"
   ]
  }
 ],
 "metadata": {
  "kernelspec": {
   "display_name": "Python 3",
   "language": "python",
   "name": "python3"
  },
  "language_info": {
   "codemirror_mode": {
    "name": "ipython",
    "version": 3
   },
   "file_extension": ".py",
   "mimetype": "text/x-python",
   "name": "python",
   "nbconvert_exporter": "python",
   "pygments_lexer": "ipython3",
   "version": "3.7.3"
  }
 },
 "nbformat": 4,
 "nbformat_minor": 4
}
